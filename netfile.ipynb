{
 "cells": [
  {
   "cell_type": "code",
   "execution_count": 36,
   "metadata": {
    "collapsed": false
   },
   "outputs": [],
   "source": [
    "import pandas as pd\n",
    "import seaborn as sns"
   ]
  },
  {
   "cell_type": "code",
   "execution_count": 30,
   "metadata": {
    "collapsed": true
   },
   "outputs": [],
   "source": [
    "netFilePath = './dm3.droVir3.net'"
   ]
  },
  {
   "cell_type": "code",
   "execution_count": 50,
   "metadata": {
    "collapsed": false
   },
   "outputs": [],
   "source": [
    "# Net File Format Reference: https://genome.ucsc.edu/goldenPath/help/net.html\n",
    "\n",
    "data = []\n",
    "\n",
    "def StringIsInt(s):\n",
    "    try: \n",
    "        int(s)\n",
    "        return True\n",
    "    except ValueError:\n",
    "        return False\n",
    "\n",
    "\n",
    "with open(netFilePath, 'r') as netfile:\n",
    "    for i, line in enumerate(netfile):\n",
    "        fields = line.split()\n",
    "        \n",
    "        if fields[0] == 'net':\n",
    "            current_chromosome = fields[1]\n",
    "            continue\n",
    "        \n",
    "        lineIsNotSynteny = fields[0] != 'fill'\n",
    "        \n",
    "        if lineIsNotSynteny:\n",
    "            continue\n",
    "    \n",
    "        # These are attributes that are mandatory and fixed    \n",
    "        _, tstart, tsize, qname, plusminus, qstart, qsize = fields[:7]\n",
    "        \n",
    "        # There are extra attributes that are not always specified/are optional\n",
    "        optional_attributes = {}\n",
    "\n",
    "\n",
    "        for optional_attribute_name in fields[7::2]:\n",
    "            index_of_attribute = fields.index(optional_attribute_name)\n",
    "            attribute_value = fields[index_of_attribute + 1]\n",
    "            optional_attributes[optional_attribute_name] = int(attribute_value) \\\n",
    "                                                            if StringIsInt(attribute_value)\\\n",
    "                                                            else attribute_value\n",
    "        \n",
    "        attributes_table  = {\n",
    "                 'melano_chromosome': current_chromosome, \n",
    "                 'melano_start': int(tstart),\n",
    "                 'melano_size': int(tsize),\n",
    "                 'virilis_chromosome': qname,\n",
    "                 'relative_orientation': plusminus,\n",
    "                 'virilis_start': int(qstart),\n",
    "                 'virilis_size': int(qsize)}\n",
    "        \n",
    "        \n",
    "        attributes_table.update(optional_attributes)\n",
    "        \n",
    "        data.append(attributes_table)\n",
    "\n",
    "        \n",
    "my_data_frame = pd.DataFrame(data)"
   ]
  },
  {
   "cell_type": "code",
   "execution_count": null,
   "metadata": {
    "collapsed": false,
    "scrolled": false
   },
   "outputs": [],
   "source": [
    "big_syntanic_blocks = my_data_frame.query('melano_size > 10000 and virilis_size > 10000 and type == \"syn\"')\\\n",
    "    .sort_values('score', ascending=False)\n",
    "\n",
    "print big_syntanic_blocks"
   ]
  },
  {
   "cell_type": "code",
   "execution_count": null,
   "metadata": {
    "collapsed": true
   },
   "outputs": [],
   "source": []
  }
 ],
 "metadata": {
  "kernelspec": {
   "display_name": "Python 2",
   "language": "python",
   "name": "python2"
  },
  "language_info": {
   "codemirror_mode": {
    "name": "ipython",
    "version": 2
   },
   "file_extension": ".py",
   "mimetype": "text/x-python",
   "name": "python",
   "nbconvert_exporter": "python",
   "pygments_lexer": "ipython2",
   "version": "2.7.6"
  }
 },
 "nbformat": 4,
 "nbformat_minor": 0
}
