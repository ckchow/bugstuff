{
 "cells": [
  {
   "cell_type": "code",
   "execution_count": 67,
   "metadata": {
    "collapsed": false
   },
   "outputs": [],
   "source": [
    "import pandas as pd\n",
    "import seaborn as sns\n",
    "import urllib.request\n",
    "import gzip\n",
    "import qgrid\n",
    "import gffutils\n",
    "import sqlite3\n",
    "\n",
    "from itertools import repeat\n",
    "from scipy.spatial.distance import pdist, cdist\n",
    "\n",
    "import os.path as osp\n",
    "import matplotlib.pyplot as plt\n",
    "import numpy as np\n",
    "\n",
    "%matplotlib inline"
   ]
  },
  {
   "cell_type": "code",
   "execution_count": 2,
   "metadata": {
    "collapsed": false
   },
   "outputs": [],
   "source": [
    "# download data here if it doesn't exist already\n",
    "net_file_path = './dm3.droVir3.net.gz'\n",
    "net_file_url = 'http://hgdownload.soe.ucsc.edu/goldenPath/dm3/vsDroVir3/dm3.droVir3.net.gz'\n",
    "\n",
    "if not osp.exists(net_file_path):\n",
    "    print('downloading synteny file')\n",
    "    urllib.request.urlretrieve(net_file_url, net_file_path)"
   ]
  },
  {
   "cell_type": "code",
   "execution_count": 3,
   "metadata": {
    "collapsed": false
   },
   "outputs": [],
   "source": [
    "# Net File Format Reference: https://genome.ucsc.edu/goldenPath/help/net.html\n",
    "\n",
    "data = []\n",
    "\n",
    "def StringIsInt(s):\n",
    "    try: \n",
    "        int(s)\n",
    "        return True\n",
    "    except ValueError:\n",
    "        return False\n",
    "\n",
    "\n",
    "with gzip.open(net_file_path, 'r') as netfile:\n",
    "    for i, line in enumerate(netfile):\n",
    "        fields = line.decode('utf-8').strip().split()\n",
    "        \n",
    "        if fields[0] == 'net':\n",
    "            current_chromosome = fields[1]\n",
    "            continue\n",
    "        \n",
    "        # lines prefixed with 'gap' are not matching\n",
    "        lineIsNotSynteny = fields[0] != 'fill'\n",
    "        \n",
    "        if lineIsNotSynteny:\n",
    "            continue\n",
    "    \n",
    "        # These are attributes that are mandatory and fixed    \n",
    "        _, tstart, tsize, qname, plusminus, qstart, qsize = fields[:7]\n",
    "        \n",
    "        # There are extra attributes that are not always specified/are optional\n",
    "        optional_attributes = {}\n",
    "\n",
    "\n",
    "        for optional_attribute_name in fields[7::2]:\n",
    "            index_of_attribute = fields.index(optional_attribute_name)\n",
    "            attribute_value = fields[index_of_attribute + 1]\n",
    "            optional_attributes[optional_attribute_name] = int(attribute_value) \\\n",
    "                                                            if StringIsInt(attribute_value)\\\n",
    "                                                            else attribute_value\n",
    "        \n",
    "        attributes_table  = {\n",
    "                 'melano_chromosome': current_chromosome, \n",
    "                 'melano_start': int(tstart),\n",
    "                 'melano_size': int(tsize),\n",
    "                 'virilis_chromosome': qname,\n",
    "                 'relative_orientation': plusminus,\n",
    "                 'virilis_start': int(qstart),\n",
    "                 'virilis_size': int(qsize)}\n",
    "        \n",
    "        \n",
    "        attributes_table.update(optional_attributes)\n",
    "        \n",
    "        data.append(attributes_table)\n",
    "\n",
    "        \n",
    "my_data_frame = pd.DataFrame(data)"
   ]
  },
  {
   "cell_type": "code",
   "execution_count": 4,
   "metadata": {
    "collapsed": true
   },
   "outputs": [],
   "source": [
    "qgrid.show_grid(my_data_frame)"
   ]
  },
  {
   "cell_type": "code",
   "execution_count": 5,
   "metadata": {
    "collapsed": false,
    "scrolled": true
   },
   "outputs": [],
   "source": [
    "syntenic_query = 'melano_size > 10000 and virilis_size > 10000 and type == \"syn\" '\\\n",
    "                 'and melano_chromosome == \"chr2L\"'\n",
    "\n",
    "big_syntenic_blocks = my_data_frame.query(syntenic_query)\\\n",
    "    .sort_values('score', ascending=False)"
   ]
  },
  {
   "cell_type": "code",
   "execution_count": 6,
   "metadata": {
    "collapsed": true
   },
   "outputs": [],
   "source": [
    "if not osp.exists('syntenic_blocks.csv'):\n",
    "    print('saving syntenic blocks to csv')\n",
    "    big_syntanic_blocks.to_csv('syntenic_blocks.csv')\n",
    "    "
   ]
  },
  {
   "cell_type": "code",
   "execution_count": 7,
   "metadata": {
    "collapsed": false
   },
   "outputs": [],
   "source": [
    "qgrid.show_grid(big_syntenic_blocks)"
   ]
  },
  {
   "cell_type": "code",
   "execution_count": 8,
   "metadata": {
    "collapsed": false
   },
   "outputs": [],
   "source": [
    "# long range contact stuff\n",
    "long_range_contact_url = 'http://www.cell.com/cms/attachment/2007964571/2030739776/mmc3.xls'\n",
    "long_range_contact_path = './long_range_contacts.xls'\n",
    "\n",
    "if not osp.exists(long_range_contact_path):\n",
    "    print('downloading long range contacts')\n",
    "    urllib.request.urlretrieve(long_range_contact_url, long_range_contact_path)"
   ]
  },
  {
   "cell_type": "code",
   "execution_count": 9,
   "metadata": {
    "collapsed": false
   },
   "outputs": [],
   "source": [
    "long_range_contacts = pd.read_excel(long_range_contact_path, header=3)\n",
    "qgrid.show_grid(long_range_contacts)"
   ]
  },
  {
   "cell_type": "code",
   "execution_count": 10,
   "metadata": {
    "collapsed": false
   },
   "outputs": [],
   "source": [
    "# on 2l, the contact points\n",
    "chromosome_2L_points = long_range_contacts.query('Chr == \"2L\"')"
   ]
  },
  {
   "cell_type": "code",
   "execution_count": 11,
   "metadata": {
    "collapsed": false,
    "scrolled": true
   },
   "outputs": [
    {
     "name": "stderr",
     "output_type": "stream",
     "text": [
      "/usr/local/lib/python3.4/site-packages/ipykernel/__main__.py:10: SettingWithCopyWarning: \n",
      "A value is trying to be set on a copy of a slice from a DataFrame.\n",
      "Try using .loc[row_indexer,col_indexer] = value instead\n",
      "\n",
      "See the caveats in the documentation: http://pandas.pydata.org/pandas-docs/stable/indexing.html#indexing-view-versus-copy\n"
     ]
    }
   ],
   "source": [
    "# looped areas (should count from outside of sticking area)\n",
    "start_stop_points = ['Xstart', 'Xend', 'Ystart', 'Yend']\n",
    "forward_loops = chromosome_2L_points['Yend'] - chromosome_2L_points['Xstart']\n",
    "backward_loops = chromosome_2L_points['Xend'] - chromosome_2L_points['Ystart']\n",
    "\n",
    "is_forward_loop = forward_loops > 0\n",
    "is_backward_loop = ~is_forward_loop\n",
    "\n",
    "loop_lengths = forward_loops * is_forward_loop + backward_loops * is_backward_loop\n",
    "chromosome_2L_points['loop_length'] = loop_lengths\n",
    "qgrid.show_grid(chromosome_2L_points)"
   ]
  },
  {
   "cell_type": "code",
   "execution_count": 12,
   "metadata": {
    "collapsed": false
   },
   "outputs": [],
   "source": [
    "filtered_points = chromosome_2L_points.query('loop_length < 3e6') \n",
    "qgrid.show_grid(filtered_points)"
   ]
  },
  {
   "cell_type": "code",
   "execution_count": 13,
   "metadata": {
    "collapsed": false,
    "scrolled": true
   },
   "outputs": [
    {
     "name": "stdout",
     "output_type": "stream",
     "text": [
      "num_loops:  30\n",
      "loop coverage of chromosome 2L: 0.206956521739\n"
     ]
    },
    {
     "name": "stderr",
     "output_type": "stream",
     "text": [
      "/usr/local/lib/python3.4/site-packages/matplotlib/__init__.py:892: UserWarning: axes.color_cycle is deprecated and replaced with axes.prop_cycle; please use the latter.\n",
      "  warnings.warn(self.msg_depr % (key, alt_key))\n"
     ]
    },
    {
     "data": {
      "text/plain": [
       "<matplotlib.text.Text at 0x116a66278>"
      ]
     },
     "execution_count": 13,
     "metadata": {},
     "output_type": "execute_result"
    },
    {
     "data": {
      "image/png": "[encoded data removed]",
      "text/plain": [
       "<matplotlib.figure.Figure at 0x1169d2128>"
      ]
     },
     "metadata": {},
     "output_type": "display_data"
    }
   ],
   "source": [
    "loops = pd.DataFrame()\n",
    "\n",
    "loops['loop_start'] = filtered_points[start_stop_points].min(axis=1)\n",
    "loops['loop_stop'] = filtered_points[start_stop_points].max(axis=1)\n",
    "\n",
    "# def overlap(start1, end1, start2, end2):\n",
    "#     \"\"\"Does the range (start1, end1) overlap with (start2, end2)?\"\"\"\n",
    "#     return end1 >= start2 and end2 >= start1\n",
    "\n",
    "def overlap(a,b,c,d):\n",
    "    r = 0 if a==c and b==d else min(b,d)-max(a,c)\n",
    "    if r >= 0: \n",
    "        return r\n",
    "    else:\n",
    "        return 0\n",
    "\n",
    "def overlapper(m_start, m_end):\n",
    "    def overlap_inner(row):\n",
    "        return overlap(row['loop_start'], row['loop_stop'], m_start, m_end)\n",
    "    \n",
    "    return overlap_inner\n",
    "\n",
    "def array_overlap(segment_a, segment_b):\n",
    "    return overlap(segment_a[0], segment_a[1], segment_b[0], segment_b[1])\n",
    "    \n",
    "\n",
    "blocks = dict(zip(big_syntenic_blocks.index, repeat(None)))\n",
    "for row in big_syntenic_blocks.itertuples():\n",
    "    # calculate coverage with loops\n",
    "    index = row[0]\n",
    "    melano_size = row[4]\n",
    "    melano_start = row[5]\n",
    "    melano_end = melano_start + melano_size\n",
    "    \n",
    "    overlap_function = overlapper(melano_start, melano_end)\n",
    "    \n",
    "    coverage = loops.apply(overlap_function, axis=1) / melano_size\n",
    "    \n",
    "    covering_loop = coverage.argmax()\n",
    "    \n",
    "    blocks[index] = covering_loop\n",
    "    #     print('block {} coverage {} covering loop {}'.format(index, coverage.max(), covering_loop))\n",
    "    \n",
    "block_series = pd.Series(blocks)\n",
    "    \n",
    "# how many loops are there\n",
    "num_loops = len(loops)\n",
    "\n",
    "print('num_loops: ', num_loops)\n",
    "\n",
    "# how much of this chromosome is covered by loops\n",
    "# you can calculate this by generating the condensed overlap matrix\n",
    "all_overlaps = pdist(loops[['loop_start', 'loop_stop']].values, array_overlap).sum()\n",
    "all_loops = (loops['loop_stop'] - loops['loop_start']).sum()\n",
    "\n",
    "unique_loop_coverage = all_loops - all_overlaps\n",
    "unique_loop_ratio = unique_loop_coverage / all_loops\n",
    "\n",
    "chr_2l_length = 23e6\n",
    "\n",
    "print('loop coverage of chromosome 2L:', unique_loop_coverage / chr_2l_length)\n",
    "\n",
    "# what is the distribution of loops covered by each\n",
    "# print(block_series)\n",
    "sns.countplot(block_series)\n",
    "plt.xlabel('loop')"
   ]
  },
  {
   "cell_type": "code",
   "execution_count": 14,
   "metadata": {
    "collapsed": false
   },
   "outputs": [],
   "source": [
    "# insulator data\n",
    "# download from http://gbrowse.modencode.org/fgb2/gbrowse/fly/?label=Insulators_CLASSES_KW for class 1, 2\n",
    "\n",
    "insulator_file = './Insulators_CLASSES_KW_2L.gff3.txt'\n",
    "\n",
    "insulator_db_fn = './insulators.db'\n",
    "\n",
    "if not osp.exists(insulator_db_fn):\n",
    "    gffutils.create_db(insulator_file, insulator_db_fn)\n",
    "    "
   ]
  },
  {
   "cell_type": "code",
   "execution_count": 50,
   "metadata": {
    "collapsed": false
   },
   "outputs": [],
   "source": [
    "# read insulator db into a pandas frame\n",
    "with sqlite3.connect(insulator_db_fn) as connection:\n",
    "    insulator_df = pd.read_sql_query(\"SELECT * from features\", connection)\n",
    "    insulator_df.drop(['score', 'strand', 'frame', 'extra'], axis=1, inplace=True)"
   ]
  },
  {
   "cell_type": "code",
   "execution_count": 92,
   "metadata": {
    "collapsed": false
   },
   "outputs": [
    {
     "data": {
      "text/plain": [
       "<matplotlib.axes._subplots.AxesSubplot at 0x1148b7320>"
      ]
     },
     "execution_count": 92,
     "metadata": {},
     "output_type": "execute_result"
    },
    {
     "data": {
      "image/png": "[encoded data removed]",
      "text/plain": [
       "<matplotlib.figure.Figure at 0x1148c8e10>"
      ]
     },
     "metadata": {},
     "output_type": "display_data"
    }
   ],
   "source": [
    "# we want to see that insulators appear near to the loop boundaries\n",
    "loop_endpoints = np.atleast_2d(np.hstack((loops.loop_start.values, loops.loop_stop.values))).T\n",
    "\n",
    "loop_starts = np.atleast_2d(loops.loop_start.values).T\n",
    "loop_stops = np.atleast_2d(loops.loop_stop.values).T\n",
    "\n",
    "# they put all the insulators on the + strand so the endpoint is strictly after the start\n",
    "insulator_midpoints = np.atleast_2d((insulator_df.start + (insulator_df.start - insulator_df.end) / 2).values).T\n",
    "\n",
    "insulator_loop_start_distance = (cdist(loop_starts, insulator_midpoints, 'cityblock'))\n",
    "insulator_loop_stop_distance = (cdist(loop_stops, insulator_midpoints, 'cityblock'))\n",
    "\n",
    "insulator_loop_start_min = insulator_loop_start_distance.min(axis=1)\n",
    "insulator_loop_stop_min = insulator_loop_stop_distance.min(axis=1)\n",
    "\n",
    "plt.figure(figsize=(25, 10))\n",
    "plt.subplot(121)\n",
    "\n",
    "plt.title('loop start min distance from insulator')\n",
    "sns.distplot(insulator_loop_start_min, kde=False)\n",
    "\n",
    "plt.subplot(122)\n",
    "\n",
    "plt.title('loop stop min distance from insulator')\n",
    "sns.distplot(insulator_loop_stop_min, kde=False)\n",
    "\n",
    "# insulator_loop_end_distance_min = insulator_loop_end_distance.min(axis=1)\n",
    "\n",
    "# sns.distplot(insulator_loop_end_distance_min, kde=False)\n",
    "\n",
    "print('loop end insulator min distance')\n",
    "print(pd.Series(insulator_loop_stop_min).describe())\n",
    "\n",
    "print('loop start insulator min distance')\n",
    "print(chr_2l_length)"
   ]
  }
 ],
 "metadata": {
  "kernelspec": {
   "display_name": "Python 3",
   "language": "python",
   "name": "python3"
  },
  "language_info": {
   "codemirror_mode": {
    "name": "ipython",
    "version": 3
   },
   "file_extension": ".py",
   "mimetype": "text/x-python",
   "name": "python",
   "nbconvert_exporter": "python",
   "pygments_lexer": "ipython3",
   "version": "3.4.3"
  }
 },
 "nbformat": 4,
 "nbformat_minor": 0
}
