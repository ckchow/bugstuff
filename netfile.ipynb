{
 "cells": [
  {
   "cell_type": "code",
   "execution_count": 1,
   "metadata": {
    "collapsed": false
   },
   "outputs": [
    {
     "name": "stderr",
     "output_type": "stream",
     "text": [
      "/usr/local/lib/python3.4/site-packages/matplotlib/__init__.py:872: UserWarning: axes.color_cycle is deprecated and replaced with axes.prop_cycle; please use the latter.\n",
      "  warnings.warn(self.msg_depr % (key, alt_key))\n"
     ]
    }
   ],
   "source": [
    "import pandas as pd\n",
    "import seaborn as sns\n",
    "import urllib.request\n",
    "import gzip\n",
    "import qgrid\n",
    "\n",
    "import os.path as osp"
   ]
  },
  {
   "cell_type": "code",
   "execution_count": 2,
   "metadata": {
    "collapsed": false
   },
   "outputs": [],
   "source": [
    "# download data here if it doesn't exist already\n",
    "net_file_path = './dm3.droVir3.net.gz'\n",
    "net_file_url = 'http://hgdownload.soe.ucsc.edu/goldenPath/dm3/vsDroVir3/dm3.droVir3.net.gz'\n",
    "\n",
    "if not osp.exists(net_file_path):\n",
    "    print('downloading synteny file')\n",
    "    urllib.request.urlretrieve(net_file_url, net_file_path)"
   ]
  },
  {
   "cell_type": "code",
   "execution_count": 3,
   "metadata": {
    "collapsed": false
   },
   "outputs": [],
   "source": [
    "# Net File Format Reference: https://genome.ucsc.edu/goldenPath/help/net.html\n",
    "\n",
    "data = []\n",
    "\n",
    "def StringIsInt(s):\n",
    "    try: \n",
    "        int(s)\n",
    "        return True\n",
    "    except ValueError:\n",
    "        return False\n",
    "\n",
    "\n",
    "with gzip.open(net_file_path, 'r') as netfile:\n",
    "    for i, line in enumerate(netfile):\n",
    "        fields = line.decode('utf-8').strip().split()\n",
    "        \n",
    "        if fields[0] == 'net':\n",
    "            current_chromosome = fields[1]\n",
    "            continue\n",
    "        \n",
    "        # lines prefixed with 'gap' are not matching\n",
    "        lineIsNotSynteny = fields[0] != 'fill'\n",
    "        \n",
    "        if lineIsNotSynteny:\n",
    "            continue\n",
    "    \n",
    "        # These are attributes that are mandatory and fixed    \n",
    "        _, tstart, tsize, qname, plusminus, qstart, qsize = fields[:7]\n",
    "        \n",
    "        # There are extra attributes that are not always specified/are optional\n",
    "        optional_attributes = {}\n",
    "\n",
    "\n",
    "        for optional_attribute_name in fields[7::2]:\n",
    "            index_of_attribute = fields.index(optional_attribute_name)\n",
    "            attribute_value = fields[index_of_attribute + 1]\n",
    "            optional_attributes[optional_attribute_name] = int(attribute_value) \\\n",
    "                                                            if StringIsInt(attribute_value)\\\n",
    "                                                            else attribute_value\n",
    "        \n",
    "        attributes_table  = {\n",
    "                 'melano_chromosome': current_chromosome, \n",
    "                 'melano_start': int(tstart),\n",
    "                 'melano_size': int(tsize),\n",
    "                 'virilis_chromosome': qname,\n",
    "                 'relative_orientation': plusminus,\n",
    "                 'virilis_start': int(qstart),\n",
    "                 'virilis_size': int(qsize)}\n",
    "        \n",
    "        \n",
    "        attributes_table.update(optional_attributes)\n",
    "        \n",
    "        data.append(attributes_table)\n",
    "\n",
    "        \n",
    "my_data_frame = pd.DataFrame(data)"
   ]
  },
  {
   "cell_type": "code",
   "execution_count": 4,
   "metadata": {
    "collapsed": true
   },
   "outputs": [],
   "source": [
    "qgrid.show_grid(my_data_frame)"
   ]
  },
  {
   "cell_type": "code",
   "execution_count": 5,
   "metadata": {
    "collapsed": false,
    "scrolled": true
   },
   "outputs": [],
   "source": [
    "syntenic_query = 'melano_size > 10000 and virilis_size > 10000 and type == \"syn\" '\\\n",
    "                 'and melano_chromosome == \"chr2L\"'\n",
    "\n",
    "big_syntenic_blocks = my_data_frame.query(syntenic_query)\\\n",
    "    .sort_values('score', ascending=False)"
   ]
  },
  {
   "cell_type": "code",
   "execution_count": 15,
   "metadata": {
    "collapsed": true
   },
   "outputs": [],
   "source": [
    "if not osp.exists('syntenic_blocks.csv'):\n",
    "    print('saving syntenic blocks to csv')\n",
    "    big_syntanic_blocks.to_csv('syntenic_blocks.csv')\n",
    "    "
   ]
  },
  {
   "cell_type": "code",
   "execution_count": 7,
   "metadata": {
    "collapsed": false
   },
   "outputs": [],
   "source": [
    "qgrid.show_grid(big_syntenic_blocks)"
   ]
  },
  {
   "cell_type": "code",
   "execution_count": 14,
   "metadata": {
    "collapsed": false
   },
   "outputs": [],
   "source": [
    "# long range contact stuff\n",
    "long_range_contact_url = 'http://www.cell.com/cms/attachment/2007964571/2030739776/mmc3.xls'\n",
    "long_range_contact_path = './long_range_contacts.xls'\n",
    "\n",
    "if not osp.exists(long_range_contact_path):\n",
    "    print('downloading long range contacts')\n",
    "    urllib.request.urlretrieve(long_range_contact_url, long_range_contact_path)"
   ]
  },
  {
   "cell_type": "code",
   "execution_count": 9,
   "metadata": {
    "collapsed": false
   },
   "outputs": [],
   "source": [
    "long_range_contacts = pd.read_excel(long_range_contact_path, header=3)\n",
    "qgrid.show_grid(long_range_contacts)"
   ]
  },
  {
   "cell_type": "code",
   "execution_count": 10,
   "metadata": {
    "collapsed": false
   },
   "outputs": [],
   "source": [
    "# on 2l, the contact points\n",
    "chromosome_2L_points = long_range_contacts.query('Chr == \"2L\"')"
   ]
  },
  {
   "cell_type": "code",
   "execution_count": 11,
   "metadata": {
    "collapsed": false,
    "scrolled": true
   },
   "outputs": [
    {
     "name": "stderr",
     "output_type": "stream",
     "text": [
      "/usr/local/lib/python3.4/site-packages/ipykernel/__main__.py:10: SettingWithCopyWarning: \n",
      "A value is trying to be set on a copy of a slice from a DataFrame.\n",
      "Try using .loc[row_indexer,col_indexer] = value instead\n",
      "\n",
      "See the caveats in the documentation: http://pandas.pydata.org/pandas-docs/stable/indexing.html#indexing-view-versus-copy\n"
     ]
    }
   ],
   "source": [
    "# looped areas (should count from outside of sticking area)\n",
    "start_stop_points = ['Xstart', 'Xend', 'Ystart', 'Yend']\n",
    "forward_loops = chromosome_2L_points['Yend'] - chromosome_2L_points['Xstart']\n",
    "backward_loops = chromosome_2L_points['Xend'] - chromosome_2L_points['Ystart']\n",
    "\n",
    "is_forward_loop = forward_loops > 0\n",
    "is_backward_loop = ~is_forward_loop\n",
    "\n",
    "loop_lengths = forward_loops * is_forward_loop + backward_loops * is_backward_loop\n",
    "chromosome_2L_points['loop_length'] = loop_lengths\n",
    "qgrid.show_grid(chromosome_2L_points)"
   ]
  },
  {
   "cell_type": "code",
   "execution_count": 12,
   "metadata": {
    "collapsed": false
   },
   "outputs": [],
   "source": [
    "filtered_points = chromosome_2L_points.query('loop_length < 3e6') \n",
    "qgrid.show_grid(filtered_points)"
   ]
  },
  {
   "cell_type": "code",
   "execution_count": 13,
   "metadata": {
    "collapsed": false
   },
   "outputs": [
    {
     "name": "stdout",
     "output_type": "stream",
     "text": [
      "block 607 coverage 1.0 covering loop 17\n",
      "block 1985 coverage 0.0 covering loop 12\n",
      "block 1541 coverage 1.0 covering loop 159\n",
      "block 2384 coverage 1.0 covering loop 120\n",
      "block 321 coverage 1.0 covering loop 12\n",
      "block 1215 coverage 1.0 covering loop 87\n",
      "block 1239 coverage 1.0 covering loop 87\n",
      "block 1414 coverage 1.0 covering loop 87\n",
      "block 1745 coverage 0.0 covering loop 12\n",
      "block 907 coverage 0.0 covering loop 12\n",
      "block 2824 coverage 0.022754525622318215 covering loop 26\n",
      "block 1054 coverage 1.0 covering loop 87\n",
      "block 253 coverage 1.0 covering loop 12\n",
      "block 271 coverage 1.0 covering loop 12\n",
      "block 1191 coverage 1.0 covering loop 87\n",
      "block 1029 coverage 1.0 covering loop 87\n",
      "block 1148 coverage 1.0 covering loop 87\n",
      "block 1079 coverage 1.0 covering loop 87\n",
      "block 1799 coverage 0.0 covering loop 12\n",
      "block 3155 coverage 0.0 covering loop 12\n",
      "block 1980 coverage 0.0 covering loop 12\n",
      "block 433 coverage 1.0 covering loop 17\n",
      "block 1965 coverage 0.0 covering loop 12\n",
      "block 1971 coverage 0.0 covering loop 12\n",
      "block 660 coverage 1.0 covering loop 17\n",
      "block 1731 coverage 0.0 covering loop 12\n",
      "block 1234 coverage 1.0 covering loop 87\n",
      "block 383 coverage 1.0 covering loop 17\n",
      "block 1164 coverage 1.0 covering loop 87\n",
      "block 1180 coverage 1.0 covering loop 87\n",
      "block 1839 coverage 0.0 covering loop 12\n",
      "block 2817 coverage 0.0 covering loop 12\n",
      "block 478 coverage 1.0 covering loop 17\n",
      "block 3177 coverage 1.0 covering loop 228\n",
      "block 1977 coverage 0.0 covering loop 12\n",
      "block 218 coverage 1.0 covering loop 12\n",
      "block 2576 coverage 1.0 covering loop 120\n",
      "block 427 coverage 1.0 covering loop 17\n",
      "block 217 coverage 1.0 covering loop 12\n",
      "block 808 coverage 0.0 covering loop 12\n",
      "block 1409 coverage 1.0 covering loop 87\n",
      "block 407 coverage 1.0 covering loop 17\n",
      "block 3062 coverage 1.0 covering loop 30\n",
      "block 753 coverage 0.0 covering loop 12\n",
      "block 3136 coverage 0.0 covering loop 12\n",
      "block 4646 coverage 1.0 covering loop 264\n"
     ]
    }
   ],
   "source": [
    "loops = pd.DataFrame()\n",
    "\n",
    "loops['loop_start'] = filtered_points[start_stop_points].min(axis=1)\n",
    "loops['loop_stop'] = filtered_points[start_stop_points].max(axis=1)\n",
    "\n",
    "# def overlap(start1, end1, start2, end2):\n",
    "#     \"\"\"Does the range (start1, end1) overlap with (start2, end2)?\"\"\"\n",
    "#     return end1 >= start2 and end2 >= start1\n",
    "\n",
    "def overlap(a,b,c,d):\n",
    "    r = 0 if a==c and b==d else min(b,d)-max(a,c)\n",
    "    if r >= 0: \n",
    "        return r\n",
    "    else:\n",
    "        return 0\n",
    "\n",
    "def overlapper(m_start, m_end):\n",
    "    def overlap_inner(row):\n",
    "        return overlap(row['loop_start'], row['loop_stop'], m_start, m_end)\n",
    "    \n",
    "    return overlap_inner\n",
    "    \n",
    "for row in big_syntenic_blocks.itertuples():\n",
    "    # calculate coverage with loops\n",
    "    index = row[0]\n",
    "    melano_size = row[4]\n",
    "    melano_start = row[5]\n",
    "    melano_end = melano_start + melano_size\n",
    "    \n",
    "    overlap_function = overlapper(melano_start, melano_end)\n",
    "    \n",
    "    coverage = loops.apply(overlap_function, axis=1) / melano_size\n",
    "    \n",
    "    covering_loop = coverage.argmax()\n",
    "    \n",
    "    print('block {} coverage {} covering loop {}'.format(index, coverage.max(), covering_loop))\n",
    "    "
   ]
  }
 ],
 "metadata": {
  "kernelspec": {
   "display_name": "Python 3",
   "language": "python",
   "name": "python3"
  },
  "language_info": {
   "codemirror_mode": {
    "name": "ipython",
    "version": 3
   },
   "file_extension": ".py",
   "mimetype": "text/x-python",
   "name": "python",
   "nbconvert_exporter": "python",
   "pygments_lexer": "ipython3",
   "version": "3.4.3"
  }
 },
 "nbformat": 4,
 "nbformat_minor": 0
}
